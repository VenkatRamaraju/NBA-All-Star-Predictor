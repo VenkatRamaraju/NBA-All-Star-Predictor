{
 "cells": [
  {
   "cell_type": "code",
   "execution_count": 115,
   "metadata": {},
   "outputs": [],
   "source": [
    "# Dependencies\n",
    "import pandas as pd\n",
    "from sklearn.preprocessing import MinMaxScaler\n",
    "from sklearn.neighbors import KNeighborsClassifier\n",
    "from sklearn import metrics"
   ]
  },
  {
   "cell_type": "code",
   "execution_count": 116,
   "metadata": {},
   "outputs": [],
   "source": [
    "def clean_data(df):        \n",
    "    # Dropping columns that are not needed\n",
    "    df = df.drop(['Pos'], axis=1)\n",
    "\n",
    "    # Scaling the data\n",
    "    Scaler = MinMaxScaler()\n",
    "    df = pd.DataFrame(Scaler.fit_transform(df), columns=df.columns)\n",
    "    \n",
    "    return df"
   ]
  },
  {
   "cell_type": "code",
   "execution_count": 117,
   "metadata": {},
   "outputs": [],
   "source": [
    "# Creating the model\n",
    "df_train = pd.read_csv('Data/Training/overall_training_data.csv',index_col=0)\n",
    "df_train = df_train.dropna(axis=0)\n",
    "df_train = df_train.drop(['Player'], axis=1)\n",
    "df_train = clean_data(df_train)\n",
    "\n",
    "training_cols = [x for x in df_train.columns if x != 'All Star']\n",
    "X_train = df_train[training_cols]\n",
    "y_train = df_train['All Star']\n",
    "\n",
    "KNN = KNeighborsClassifier(n_neighbors=61)\n",
    "KNN = KNN.fit(X_train, y_train)\n",
    "y_prediction = KNN.predict(X_train)"
   ]
  },
  {
   "cell_type": "code",
   "execution_count": 118,
   "metadata": {},
   "outputs": [
    {
     "name": "stdout",
     "output_type": "stream",
     "text": [
      "0.9743991640543365\n"
     ]
    }
   ],
   "source": [
    "# Accuracy of model on training data using sklearn.metrics\n",
    "print(metrics.accuracy_score(y_train, y_prediction))"
   ]
  },
  {
   "cell_type": "code",
   "execution_count": 119,
   "metadata": {},
   "outputs": [],
   "source": [
    "# Processing test data\n",
    "df_test = pd.read_csv('Data/Testing/Test_Data.csv', index_col=0)\n",
    "df_test = df_test.dropna(axis=0)\n",
    "player_list = df_test['Player']\n",
    "\n",
    "df_test = df_test.drop(['Player'], axis=1)\n",
    "df_test = clean_data(df_test)\n",
    "\n",
    "# Predict using the KNN Model\n",
    "y_prediction = KNN.predict(df_test)"
   ]
  },
  {
   "cell_type": "code",
   "execution_count": 120,
   "metadata": {},
   "outputs": [],
   "source": [
    "result = pd.DataFrame(player_list)\n",
    "result['Predicted All Star'] = y_prediction.tolist()\n",
    "\n",
    "# Predicted NBA all stars\n",
    "predicted_all_stars = []\n",
    "for index, row in result.iterrows():\n",
    "    if result.at[index, 'Predicted All Star'] == 1.0:\n",
    "        predicted_all_stars.append(result.at[index, 'Player'])\n",
    "\n",
    "# Actual NBA all stars\n",
    "actual_all_stars = ['Bradley Beal', 'Kyrie Irving', 'Giannis Antetokounmpo', 'Joel Embiid', 'Jaylen Brown', \n",
    " 'James Harden', 'Zach LaVine', 'Ben Simmons', 'Julius Randle', 'Jayson Tatum', 'Nikola Vučević',\n",
    " 'Stephen Curry', 'Luka Dončić', 'LeBron James', 'Kawhi Leonard', 'Nikola Jokić', 'Anthony Davis', 'Damian Lillard', \n",
    " 'Donovan Mitchell', 'Chris Paul', 'Paul George', 'Zion Williamson', 'Rudy Gobert', 'Kevin Durant','Domantas Sabonis',\n",
    "                   'Jimmy Butler']\n",
    "\n",
    "result['Actual All Star'] = 0.0\n",
    "for index, row in result.iterrows():\n",
    "    if result.at[index, 'Player'] in actual_all_stars:\n",
    "        result.at[index, 'Actual All Star'] = 1.0"
   ]
  },
  {
   "cell_type": "code",
   "execution_count": 121,
   "metadata": {},
   "outputs": [
    {
     "name": "stdout",
     "output_type": "stream",
     "text": [
      "Accuracy:  97.42173112338858 %\n",
      "Recall:  85.0 %\n"
     ]
    }
   ],
   "source": [
    "# Determining accuracy of prediction\n",
    "true_positive = 0\n",
    "false_positive = 0\n",
    "true_negative = 0\n",
    "false_negative = 0\n",
    "total = len(result)\n",
    "\n",
    "for index, row in result.iterrows():\n",
    "    if result.at[index, 'Predicted All Star'] == 1.0 and result.at[index, 'Actual All Star'] == 1.0:\n",
    "        true_positive += 1\n",
    "    elif result.at[index, 'Predicted All Star'] == 1.0 and result.at[index, 'Actual All Star'] == 0.0:\n",
    "        false_positive += 1\n",
    "    elif result.at[index, 'Predicted All Star'] == 0.0 and result.at[index, 'Actual All Star'] == 0.0:\n",
    "        true_negative += 1\n",
    "    else:\n",
    "        false_negative += 1\n",
    "\n",
    "accuracy = str(((true_positive + true_negative)/total)*100) + ' %'\n",
    "recall = str((true_positive/len(predicted_all_stars))*100) + ' %'\n",
    "print(\"Accuracy: \", accuracy)\n",
    "print(\"Recall: \", recall)"
   ]
  }
 ],
 "metadata": {
  "kernelspec": {
   "display_name": "Python 3",
   "language": "python",
   "name": "python3"
  },
  "language_info": {
   "codemirror_mode": {
    "name": "ipython",
    "version": 3
   },
   "file_extension": ".py",
   "mimetype": "text/x-python",
   "name": "python",
   "nbconvert_exporter": "python",
   "pygments_lexer": "ipython3",
   "version": "3.8.5"
  }
 },
 "nbformat": 4,
 "nbformat_minor": 4
}
