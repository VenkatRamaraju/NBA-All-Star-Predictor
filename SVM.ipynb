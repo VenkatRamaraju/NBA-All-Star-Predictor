{
 "cells": [
  {
   "cell_type": "markdown",
   "metadata": {},
   "source": [
    "# Dependencies"
   ]
  },
  {
   "cell_type": "code",
   "execution_count": 55,
   "metadata": {},
   "outputs": [],
   "source": [
    "import pandas as pd\n",
    "from sklearn.svm import SVC\n",
    "from sklearn.preprocessing import MinMaxScaler\n",
    "from sklearn import metrics\n",
    "from sklearn.metrics import classification_report"
   ]
  },
  {
   "cell_type": "markdown",
   "metadata": {},
   "source": [
    "# Cleaning up Training Data"
   ]
  },
  {
   "cell_type": "code",
   "execution_count": 56,
   "metadata": {},
   "outputs": [],
   "source": [
    "def clean_data(df):        \n",
    "    # Dropping columns that are not needed\n",
    "    df = df.drop(['Pos'], axis=1)\n",
    "\n",
    "    # Scaling the data\n",
    "    Scaler = MinMaxScaler()\n",
    "    df = pd.DataFrame(Scaler.fit_transform(df), columns=df.columns)\n",
    "    \n",
    "    return df"
   ]
  },
  {
   "cell_type": "code",
   "execution_count": 65,
   "metadata": {},
   "outputs": [],
   "source": [
    "df_train = pd.read_csv('Data/Training/overall_training_data.csv',index_col=0)\n",
    "df_train = df_train.dropna(axis=0)\n",
    "df_train = df_train.drop(['Player'], axis=1)\n",
    "df_train = clean_data(df_train)"
   ]
  },
  {
   "cell_type": "markdown",
   "metadata": {},
   "source": [
    "# Training the Model"
   ]
  },
  {
   "cell_type": "code",
   "execution_count": 66,
   "metadata": {},
   "outputs": [],
   "source": [
    "training_cols = [x for x in df_train.columns if x != 'All Star']\n",
    "X_train = df_train[training_cols]\n",
    "y_train = df_train['All Star']\n",
    "\n",
    "SVC_Model = SVC(kernel='linear', C=100)\n",
    "SVC_Model = SVC_Model.fit(X_train,y_train)\n",
    "y_train_prediction = SVC_Model.predict(X_train)"
   ]
  },
  {
   "cell_type": "code",
   "execution_count": 67,
   "metadata": {},
   "outputs": [
    {
     "name": "stdout",
     "output_type": "stream",
     "text": [
      "0.9767502612330199\n"
     ]
    }
   ],
   "source": [
    "# Accuracy of model on training data using sklearn.metrics\n",
    "print(metrics.accuracy_score(y_train, y_train_prediction))"
   ]
  },
  {
   "cell_type": "markdown",
   "metadata": {},
   "source": [
    "# Running Model on Test Data"
   ]
  },
  {
   "cell_type": "code",
   "execution_count": 68,
   "metadata": {},
   "outputs": [],
   "source": [
    "# Processing test data\n",
    "df_test = pd.read_csv('Data/Testing/Test_Data.csv', index_col=0)\n",
    "df_test = df_test.dropna(axis=0)\n",
    "player_list = df_test['Player']\n",
    "df_test = df_test.drop(['Player'], axis=1)\n",
    "df_test = clean_data(df_test)\n",
    "\n",
    "# Predict using the LR Model\n",
    "y_prediction_test = SVC_Model.predict(df_test)"
   ]
  },
  {
   "cell_type": "code",
   "execution_count": 69,
   "metadata": {},
   "outputs": [],
   "source": [
    "# Creating dataframe\n",
    "result = pd.DataFrame(player_list)\n",
    "result['Predicted All Star'] = y_prediction_test.tolist()\n",
    "\n",
    "# Actual NBA all stars\n",
    "actual_all_stars = ['Bradley Beal', 'Kyrie Irving', 'Giannis Antetokounmpo', 'Joel Embiid', 'Jaylen Brown', \n",
    " 'James Harden', 'Zach LaVine', 'Ben Simmons', 'Julius Randle', 'Jayson Tatum', 'Nikola Vučević',\n",
    " 'Stephen Curry', 'Luka Dončić', 'LeBron James', 'Kawhi Leonard', 'Nikola Jokić', 'Anthony Davis', 'Damian Lillard', \n",
    " 'Donovan Mitchell', 'Chris Paul', 'Paul George', 'Zion Williamson', 'Rudy Gobert', 'Kevin Durant','Domantas Sabonis',\n",
    "                   'Jimmy Butler']\n",
    "\n",
    "result['Actual All Star'] = 0.0\n",
    "for index, row in result.iterrows():\n",
    "    if result.at[index, 'Player'] in actual_all_stars:\n",
    "        result.at[index, 'Actual All Star'] = 1.0"
   ]
  },
  {
   "cell_type": "code",
   "execution_count": 70,
   "metadata": {},
   "outputs": [
    {
     "name": "stdout",
     "output_type": "stream",
     "text": [
      "              precision    recall  f1-score   support\n",
      "\n",
      "         0.0       0.97      1.00      0.98       515\n",
      "         1.0       0.87      0.46      0.60        28\n",
      "\n",
      "    accuracy                           0.97       543\n",
      "   macro avg       0.92      0.73      0.79       543\n",
      "weighted avg       0.97      0.97      0.96       543\n",
      "\n"
     ]
    }
   ],
   "source": [
    "print(classification_report(result['Actual All Star'], result['Predicted All Star']))"
   ]
  },
  {
   "cell_type": "code",
   "execution_count": null,
   "metadata": {},
   "outputs": [],
   "source": []
  }
 ],
 "metadata": {
  "kernelspec": {
   "display_name": "Python 3",
   "language": "python",
   "name": "python3"
  },
  "language_info": {
   "codemirror_mode": {
    "name": "ipython",
    "version": 3
   },
   "file_extension": ".py",
   "mimetype": "text/x-python",
   "name": "python",
   "nbconvert_exporter": "python",
   "pygments_lexer": "ipython3",
   "version": "3.8.5"
  }
 },
 "nbformat": 4,
 "nbformat_minor": 4
}
