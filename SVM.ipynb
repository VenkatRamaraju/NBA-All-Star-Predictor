{
 "cells": [
  {
   "cell_type": "markdown",
   "metadata": {},
   "source": [
    "# Dependencies"
   ]
  },
  {
   "cell_type": "code",
   "execution_count": 10,
   "metadata": {},
   "outputs": [],
   "source": [
    "import pandas as pd\n",
    "from sklearn.svm import SVC\n",
    "from sklearn.preprocessing import MinMaxScaler\n",
    "from sklearn import metrics\n",
    "from sklearn.metrics import classification_report"
   ]
  },
  {
   "cell_type": "markdown",
   "metadata": {},
   "source": [
    "# Cleaning up Training Data"
   ]
  },
  {
   "cell_type": "code",
   "execution_count": 11,
   "metadata": {},
   "outputs": [],
   "source": [
    "def clean_data(df):        \n",
    "    # Dropping columns that are not needed\n",
    "    df = df.drop(['Pos'], axis=1)\n",
    "\n",
    "    # Scaling the data\n",
    "    Scaler = MinMaxScaler()\n",
    "    df = pd.DataFrame(Scaler.fit_transform(df), columns=df.columns)\n",
    "    \n",
    "    return df"
   ]
  },
  {
   "cell_type": "code",
   "execution_count": 12,
   "metadata": {},
   "outputs": [],
   "source": [
    "df_train = pd.read_csv('Data/Training/overall_training_data.csv',index_col=0)\n",
    "df_train = df_train.dropna(axis=0)\n",
    "df_train = df_train.drop(['Player'], axis=1)\n",
    "df_train = clean_data(df_train)"
   ]
  },
  {
   "cell_type": "markdown",
   "metadata": {},
   "source": [
    "# Training the Model"
   ]
  },
  {
   "cell_type": "code",
   "execution_count": 13,
   "metadata": {},
   "outputs": [],
   "source": [
    "training_cols = [x for x in df_train.columns if x != 'All Star']\n",
    "X_train = df_train[training_cols]\n",
    "y_train = df_train['All Star']\n",
    "\n",
    "SVC_Model = SVC(kernel='rbf', gamma=1.0,C=10.0)\n",
    "SVC_Model = SVC_Model.fit(X_train,y_train)\n",
    "y_train_prediction = SVC_Model.predict(X_train)"
   ]
  },
  {
   "cell_type": "code",
   "execution_count": 14,
   "metadata": {},
   "outputs": [
    {
     "name": "stdout",
     "output_type": "stream",
     "text": [
      "0.981974921630094\n"
     ]
    }
   ],
   "source": [
    "# Accuracy of model on training data using sklearn.metrics\n",
    "print(metrics.accuracy_score(y_train, y_train_prediction))"
   ]
  },
  {
   "cell_type": "markdown",
   "metadata": {},
   "source": [
    "# Running Model on Test Data"
   ]
  },
  {
   "cell_type": "code",
   "execution_count": 15,
   "metadata": {},
   "outputs": [],
   "source": [
    "# Processing test data\n",
    "df_test = pd.read_csv('Data/Testing/Test_Data.csv', index_col=0)\n",
    "df_test = df_test.dropna(axis=0)\n",
    "player_list = df_test['Player']\n",
    "df_test = df_test.drop(['Player'], axis=1)\n",
    "df_test = clean_data(df_test)\n",
    "\n",
    "# Predict using the LR Model\n",
    "y_prediction_test = SVC_Model.predict(df_test)"
   ]
  },
  {
   "cell_type": "code",
   "execution_count": 16,
   "metadata": {},
   "outputs": [
    {
     "data": {
      "text/html": [
       "<div>\n",
       "<style scoped>\n",
       "    .dataframe tbody tr th:only-of-type {\n",
       "        vertical-align: middle;\n",
       "    }\n",
       "\n",
       "    .dataframe tbody tr th {\n",
       "        vertical-align: top;\n",
       "    }\n",
       "\n",
       "    .dataframe thead th {\n",
       "        text-align: right;\n",
       "    }\n",
       "</style>\n",
       "<table border=\"1\" class=\"dataframe\">\n",
       "  <thead>\n",
       "    <tr style=\"text-align: right;\">\n",
       "      <th></th>\n",
       "      <th>Player</th>\n",
       "      <th>Predicted All Star</th>\n",
       "      <th>Actual All Star</th>\n",
       "    </tr>\n",
       "  </thead>\n",
       "  <tbody>\n",
       "    <tr>\n",
       "      <th>0</th>\n",
       "      <td>Precious Achiuwa</td>\n",
       "      <td>0.0</td>\n",
       "      <td>0.0</td>\n",
       "    </tr>\n",
       "    <tr>\n",
       "      <th>1</th>\n",
       "      <td>Jaylen Adams</td>\n",
       "      <td>0.0</td>\n",
       "      <td>0.0</td>\n",
       "    </tr>\n",
       "    <tr>\n",
       "      <th>2</th>\n",
       "      <td>Steven Adams</td>\n",
       "      <td>0.0</td>\n",
       "      <td>0.0</td>\n",
       "    </tr>\n",
       "    <tr>\n",
       "      <th>3</th>\n",
       "      <td>Bam Adebayo</td>\n",
       "      <td>1.0</td>\n",
       "      <td>0.0</td>\n",
       "    </tr>\n",
       "    <tr>\n",
       "      <th>4</th>\n",
       "      <td>LaMarcus Aldridge</td>\n",
       "      <td>0.0</td>\n",
       "      <td>0.0</td>\n",
       "    </tr>\n",
       "    <tr>\n",
       "      <th>...</th>\n",
       "      <td>...</td>\n",
       "      <td>...</td>\n",
       "      <td>...</td>\n",
       "    </tr>\n",
       "    <tr>\n",
       "      <th>540</th>\n",
       "      <td>Delon Wright</td>\n",
       "      <td>0.0</td>\n",
       "      <td>0.0</td>\n",
       "    </tr>\n",
       "    <tr>\n",
       "      <th>541</th>\n",
       "      <td>Thaddeus Young</td>\n",
       "      <td>0.0</td>\n",
       "      <td>0.0</td>\n",
       "    </tr>\n",
       "    <tr>\n",
       "      <th>542</th>\n",
       "      <td>Trae Young</td>\n",
       "      <td>0.0</td>\n",
       "      <td>0.0</td>\n",
       "    </tr>\n",
       "    <tr>\n",
       "      <th>543</th>\n",
       "      <td>Cody Zeller</td>\n",
       "      <td>0.0</td>\n",
       "      <td>0.0</td>\n",
       "    </tr>\n",
       "    <tr>\n",
       "      <th>544</th>\n",
       "      <td>Ivica Zubac</td>\n",
       "      <td>0.0</td>\n",
       "      <td>0.0</td>\n",
       "    </tr>\n",
       "  </tbody>\n",
       "</table>\n",
       "<p>543 rows × 3 columns</p>\n",
       "</div>"
      ],
      "text/plain": [
       "                Player  Predicted All Star  Actual All Star\n",
       "0     Precious Achiuwa                 0.0              0.0\n",
       "1         Jaylen Adams                 0.0              0.0\n",
       "2         Steven Adams                 0.0              0.0\n",
       "3          Bam Adebayo                 1.0              0.0\n",
       "4    LaMarcus Aldridge                 0.0              0.0\n",
       "..                 ...                 ...              ...\n",
       "540       Delon Wright                 0.0              0.0\n",
       "541     Thaddeus Young                 0.0              0.0\n",
       "542         Trae Young                 0.0              0.0\n",
       "543        Cody Zeller                 0.0              0.0\n",
       "544        Ivica Zubac                 0.0              0.0\n",
       "\n",
       "[543 rows x 3 columns]"
      ]
     },
     "execution_count": 16,
     "metadata": {},
     "output_type": "execute_result"
    }
   ],
   "source": [
    "# Creating dataframe\n",
    "result = pd.DataFrame(player_list)\n",
    "result['Predicted All Star'] = y_prediction_test.tolist()\n",
    "\n",
    "# Actual NBA all stars\n",
    "actual_all_stars = ['Bradley Beal', 'Kyrie Irving', 'Giannis Antetokounmpo', 'Joel Embiid', 'Jaylen Brown', \n",
    " 'James Harden', 'Zach LaVine', 'Ben Simmons', 'Julius Randle', 'Jayson Tatum', 'Nikola Vučević',\n",
    " 'Stephen Curry', 'Luka Dončić', 'LeBron James', 'Kawhi Leonard', 'Nikola Jokić', 'Anthony Davis', 'Damian Lillard', \n",
    " 'Donovan Mitchell', 'Chris Paul', 'Paul George', 'Zion Williamson', 'Rudy Gobert', 'Kevin Durant','Domantas Sabonis',\n",
    "                   'Jimmy Butler']\n",
    "\n",
    "result['Actual All Star'] = 0.0\n",
    "for index, row in result.iterrows():\n",
    "    if result.at[index, 'Player'] in actual_all_stars:\n",
    "        result.at[index, 'Actual All Star'] = 1.0\n",
    "result"
   ]
  },
  {
   "cell_type": "code",
   "execution_count": 17,
   "metadata": {},
   "outputs": [
    {
     "name": "stdout",
     "output_type": "stream",
     "text": [
      "              precision    recall  f1-score   support\n",
      "\n",
      "         0.0       0.96      0.99      0.98       515\n",
      "         1.0       0.67      0.21      0.32        28\n",
      "\n",
      "    accuracy                           0.95       543\n",
      "   macro avg       0.81      0.60      0.65       543\n",
      "weighted avg       0.94      0.95      0.94       543\n",
      "\n"
     ]
    }
   ],
   "source": [
    "print(classification_report(result['Actual All Star'], result['Predicted All Star']))"
   ]
  }
 ],
 "metadata": {
  "kernelspec": {
   "display_name": "Python 3",
   "language": "python",
   "name": "python3"
  },
  "language_info": {
   "codemirror_mode": {
    "name": "ipython",
    "version": 3
   },
   "file_extension": ".py",
   "mimetype": "text/x-python",
   "name": "python",
   "nbconvert_exporter": "python",
   "pygments_lexer": "ipython3",
   "version": "3.8.5"
  }
 },
 "nbformat": 4,
 "nbformat_minor": 4
}
